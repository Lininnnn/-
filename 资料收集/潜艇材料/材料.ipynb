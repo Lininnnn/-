{
 "cells": [
  {
   "cell_type": "markdown",
   "metadata": {},
   "source": [
    "- https://idstch.com/military/navy/advanced-materials-and-technologies-transforming-submarine-hulls-for-enhanced-warfighting-capabilities/"
   ]
  }
 ],
 "metadata": {
  "language_info": {
   "name": "python"
  }
 },
 "nbformat": 4,
 "nbformat_minor": 2
}
